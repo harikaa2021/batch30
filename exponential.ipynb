{
  "nbformat": 4,
  "nbformat_minor": 0,
  "metadata": {
    "colab": {
      "provenance": [],
      "authorship_tag": "ABX9TyPD+4KUoVG900uhBeaEzG5+",
      "include_colab_link": true
    },
    "kernelspec": {
      "name": "python3",
      "display_name": "Python 3"
    },
    "language_info": {
      "name": "python"
    }
  },
  "cells": [
    {
      "cell_type": "markdown",
      "metadata": {
        "id": "view-in-github",
        "colab_type": "text"
      },
      "source": [
        "<a href=\"https://colab.research.google.com/github/harikaa2021/batch30/blob/main/exponential.ipynb\" target=\"_parent\"><img src=\"https://colab.research.google.com/assets/colab-badge.svg\" alt=\"Open In Colab\"/></a>"
      ]
    },
    {
      "cell_type": "code",
      "execution_count": 2,
      "metadata": {
        "colab": {
          "base_uri": "https://localhost:8080/"
        },
        "id": "EbbSYizrxrHP",
        "outputId": "75a6a726-c725-43de-ed76-6b06b3a25653"
      },
      "outputs": [
        {
          "output_type": "stream",
          "name": "stdout",
          "text": [
            "Original value: 9000000.04229556\n"
          ]
        }
      ],
      "source": [
        "import numpy as np\n",
        "ln_value = 16.01273514  # A sample natural logarithm value\n",
        "original_value = np.exp(ln_value)\n",
        "\n",
        "print(\"Original value:\", original_value)\n"
      ]
    }
  ]
}