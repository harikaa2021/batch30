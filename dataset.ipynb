{
  "nbformat": 4,
  "nbformat_minor": 0,
  "metadata": {
    "colab": {
      "provenance": [],
      "authorship_tag": "ABX9TyPEZjKXyvhdgX7u6BotNbU3",
      "include_colab_link": true
    },
    "kernelspec": {
      "name": "python3",
      "display_name": "Python 3"
    },
    "language_info": {
      "name": "python"
    }
  },
  "cells": [
    {
      "cell_type": "markdown",
      "metadata": {
        "id": "view-in-github",
        "colab_type": "text"
      },
      "source": [
        "<a href=\"https://colab.research.google.com/github/harikaa2021/batch30/blob/main/dataset.ipynb\" target=\"_parent\"><img src=\"https://colab.research.google.com/assets/colab-badge.svg\" alt=\"Open In Colab\"/></a>"
      ]
    },
    {
      "cell_type": "code",
      "execution_count": 2,
      "metadata": {
        "colab": {
          "base_uri": "https://localhost:8080/"
        },
        "id": "EbbSYizrxrHP",
        "outputId": "75a6a726-c725-43de-ed76-6b06b3a25653"
      },
      "outputs": [
        {
          "output_type": "stream",
          "name": "stdout",
          "text": [
            "Original value: 9000000.04229556\n"
          ]
        }
      ],
      "source": [
        "import numpy as np\n",
        "ln_value = 16.01273514  # A sample natural logarithm value\n",
        "original_value = np.exp(ln_value)\n",
        "\n",
        "print(\"Original value:\", original_value)\n"
      ]
    },
    {
      "cell_type": "code",
      "source": [
        "import pandas as pd\n",
        "\n",
        "# Data provided\n",
        "people = ['Kiran', 'Arun', 'Vijay', 'Varun']\n",
        "age = [25, 30, 35, 40]\n",
        "height = [145, 151, 165, 173]  # in cm\n",
        "weight = [45, 55, 65, 75]      # in kg\n",
        "\n",
        "# Creating a DataFrame\n",
        "health_data = pd.DataFrame({\n",
        "    'Name': people,\n",
        "    'Age': age,\n",
        "    'Height(cm)': height,\n",
        "    'Weight(kg)': weight\n",
        "})\n",
        "\n",
        "# Display the dataset\n",
        "print(health_data)"
      ],
      "metadata": {
        "colab": {
          "base_uri": "https://localhost:8080/"
        },
        "id": "vnwZ_Aovyelu",
        "outputId": "46721e86-a588-4c79-90ef-f9af3b9e4f51"
      },
      "execution_count": 3,
      "outputs": [
        {
          "output_type": "stream",
          "name": "stdout",
          "text": [
            "    Name  Age  Height(cm)  Weight(kg)\n",
            "0  Kiran   25         145          45\n",
            "1   Arun   30         151          55\n",
            "2  Vijay   35         165          65\n",
            "3  Varun   40         173          75\n"
          ]
        }
      ]
    }
  ]
}