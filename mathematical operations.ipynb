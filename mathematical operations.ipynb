{
  "nbformat": 4,
  "nbformat_minor": 0,
  "metadata": {
    "colab": {
      "provenance": [],
      "authorship_tag": "ABX9TyPrWz5TgWUlJ1QH/tCMH1ps",
      "include_colab_link": true
    },
    "kernelspec": {
      "name": "python3",
      "display_name": "Python 3"
    },
    "language_info": {
      "name": "python"
    }
  },
  "cells": [
    {
      "cell_type": "markdown",
      "metadata": {
        "id": "view-in-github",
        "colab_type": "text"
      },
      "source": [
        "<a href=\"https://colab.research.google.com/github/harikaa2021/batch30/blob/main/mathematical%20operations.ipynb\" target=\"_parent\"><img src=\"https://colab.research.google.com/assets/colab-badge.svg\" alt=\"Open In Colab\"/></a>"
      ]
    },
    {
      "cell_type": "code",
      "execution_count": 1,
      "metadata": {
        "colab": {
          "base_uri": "https://localhost:8080/"
        },
        "id": "KF79izTRvJ6R",
        "outputId": "f5f393c2-3aa9-4b1e-8cf7-1aa8c5d570a1"
      },
      "outputs": [
        {
          "output_type": "stream",
          "name": "stdout",
          "text": [
            "Multiplication Result: [ 2  8 18 32 50]\n",
            "Division Result: [2. 2. 2. 2. 2.]\n",
            "Power Result: [     2     16    216   4096 100000]\n"
          ]
        }
      ],
      "source": [
        "import numpy as np\n",
        "\n",
        "# Create two datasets (arrays)\n",
        "dataset1 = np.array([2, 4, 6, 8, 10])\n",
        "dataset2 = np.array([1, 2, 3, 4, 5])\n",
        "\n",
        "# Multiplication\n",
        "multiplication_result = dataset1 * dataset2\n",
        "print(\"Multiplication Result:\", multiplication_result)\n",
        "\n",
        "# Division\n",
        "division_result = dataset1 / dataset2\n",
        "print(\"Division Result:\", division_result)\n",
        "\n",
        "# Power (raising dataset1 to the power of dataset2)\n",
        "power_result = np.power(dataset1, dataset2)\n",
        "print(\"Power Result:\", power_result)"
      ]
    }
  ]
}