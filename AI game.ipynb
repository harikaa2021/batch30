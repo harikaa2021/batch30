{
  "nbformat": 4,
  "nbformat_minor": 0,
  "metadata": {
    "colab": {
      "provenance": [],
      "authorship_tag": "ABX9TyNvf7Kv9dhUPiMNBMBW3VzR",
      "include_colab_link": true
    },
    "kernelspec": {
      "name": "python3",
      "display_name": "Python 3"
    },
    "language_info": {
      "name": "python"
    }
  },
  "cells": [
    {
      "cell_type": "markdown",
      "metadata": {
        "id": "view-in-github",
        "colab_type": "text"
      },
      "source": [
        "<a href=\"https://colab.research.google.com/github/harikaa2021/batch30/blob/main/AI%20game.ipynb\" target=\"_parent\"><img src=\"https://colab.research.google.com/assets/colab-badge.svg\" alt=\"Open In Colab\"/></a>"
      ]
    },
    {
      "cell_type": "code",
      "execution_count": 16,
      "metadata": {
        "id": "xroGqqb9bxrk"
      },
      "outputs": [],
      "source": [
        " class Game:\n",
        "  \"\"\" A Game is similar to a problem, but it has a terminal test instead of\n",
        "  a goal test, and a utility for each terminal state. To create a game,\n",
        "  subclass this class and implement 'actions',  'result', 'is_terminal',\n",
        "  and 'utility'. you will also need to set the .initial attributes to the\n",
        "  initial state; this can be done in the constructor.\"\"\"\n",
        "  def actions(self, state):\n",
        "        \"\"\" Return a collection of the allowable moves from this state.\"\"\"\n",
        "        raise NotImplementedError\n",
        "\n",
        "  def result(self, state, move):\n",
        "        \"\"\" Return the state that results from making a move from a state.\"\"\"\n",
        "        raise NotImplementedError\n",
        "\n",
        "  def is_terminal(self, state):\n",
        "        \"\"\" Return True if this is a final state for the game.\"\"\"\n",
        "        return not self.actions(state)\n",
        "\n",
        "  def utility(self, state, player):\n",
        "        \"\"\" Return the value of this final state to player.\"\"\"\n",
        "        raise NotImplementedError"
      ]
    }
  ]
}